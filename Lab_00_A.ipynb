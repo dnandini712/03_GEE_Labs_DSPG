{
 "cells": [
  {
   "cell_type": "markdown",
   "id": "9e1774b4",
   "metadata": {
    "cell_id": "e20ac7c053cd43afb418987b94e6eb94",
    "deepnote_cell_height": 726,
    "deepnote_cell_type": "markdown",
    "tags": []
   },
   "source": [
    "# Getting Set Up\n",
    "\n",
    "## Setting up an Account\n",
    "\n",
    "Whether you use the JavaScript or Python API, you will have to sign-up for a Google Earth Engine account [here](https://signup.earthengine.google.com). Registration is free and straightforward, but it takes approximately 24 hours to be approved to use the code editor. \n",
    "\n",
    " * Note: using a personal email address is currently an easier process than using your .edu account.\n",
    "\n",
    "## Getting Started\n",
    "\n",
    "Once the account is approved, you can access Google Earth Engine. \n",
    "\n",
    "#### JavaScript\n",
    "With JavaScript, you can get started immediately - as long as you are logged into Google with the account you created your account with, you can access the [code editor](https://code.earthengine.google.com) immediately and start running scripts.\n",
    "\n",
    "#### Python\n",
    "Python takes a little more effort to set up - you have to:\n",
    "\n",
    "1. Install the Earth Engine library (one-time per environment)\n",
    "2. Authenticate your Earth Engine Account (one-time per environment)\n",
    "3. Initiate the API (Every time you run a script)\n",
    "\n",
    "In addition, we will be using the [`geemap`](https://geemap.org) package in conjunction with Earth Engine, install instructions are also included. "
   ]
  },
  {
   "cell_type": "markdown",
   "id": "aeb2622d",
   "metadata": {},
   "source": [
    "##### Install Earth Engine\n",
    "Our class is set up in Google Colab, which already has the Earth Engine library installed. If you are using your own, preferred system, install with either `pip` or `conda` (take out the `#` in front of the command to run in a Jupyter Notebook)."
   ]
  },
  {
   "cell_type": "code",
   "execution_count": 1,
   "id": "a021760d",
   "metadata": {
    "cell_id": "b2e252ed4a4b4cc6a97d4466f9119b1a",
    "deepnote_cell_height": 755,
    "deepnote_cell_type": "code",
    "deepnote_to_be_reexecuted": false,
    "execution_millis": 46505,
    "execution_start": 1653692261402,
    "source_hash": "623fe282",
    "tags": []
   },
   "outputs": [],
   "source": [
    "# Install using `pip`\n",
    "\n",
    "#!pip install earthengine-api --upgrade\n",
    "#!pip install geemap"
   ]
  },
  {
   "cell_type": "code",
   "execution_count": 2,
   "id": "47d9dec6",
   "metadata": {
    "cell_id": "bdd0faa7b4bf4f51998b2feb838d4979",
    "deepnote_cell_height": 135,
    "deepnote_cell_type": "code",
    "deepnote_to_be_reexecuted": false,
    "execution_millis": 1,
    "execution_start": 1653662174611,
    "source_hash": "b956c431",
    "tags": []
   },
   "outputs": [],
   "source": [
    "# Install using Conda\n",
    "# Ensure you activate a new conda environment\n",
    "\n",
    "# !conda install -c conda-forge earthengine-api\n",
    "# !conda install geemap -c conda-forge"
   ]
  },
  {
   "cell_type": "markdown",
   "id": "c3a13128",
   "metadata": {
    "cell_id": "1231868f54754518aacde0e9e98c8a4e",
    "deepnote_cell_height": 132,
    "deepnote_cell_type": "markdown",
    "tags": []
   },
   "source": [
    "##### Authenticate Earth Engine\n",
    "Once the library is installed, you will need to authenticate for your environment environment one time. Import the Earth Engine library and then follow the instructions - you will be redirected to another page where you will receive an token, which you then enter into the prompt. Once this is complete, this token is stored in your environment. "
   ]
  },
  {
   "cell_type": "code",
   "execution_count": 1,
   "id": "85d10a62",
   "metadata": {
    "cell_id": "11d084e386cc4ad59759513a23eca5ed",
    "deepnote_cell_height": 99,
    "deepnote_cell_type": "code",
    "deepnote_output_heights": [
     190
    ],
    "deepnote_to_be_reexecuted": false,
    "execution_millis": 63418,
    "execution_start": 1654101605963,
    "source_hash": "3f44eac8",
    "tags": []
   },
   "outputs": [
    {
     "data": {
      "text/html": [
       "<p>To authorize access needed by Earth Engine, open the following\n",
       "        URL in a web browser and follow the instructions:</p>\n",
       "        <p><a href=https://code.earthengine.google.com/client-auth?scopes=https%3A//www.googleapis.com/auth/earthengine%20https%3A//www.googleapis.com/auth/devstorage.full_control&request_id=nW-fLJA23qujxHGh0z-E_ESkMNTD-deQ0FziewIS9ts&tc=jzpV7H88okPWfRr0DmuvSMzg9MgF4UmWt8KX2vzj1t0&cc=KCrlULKhCkyWpkcN0_9BVQB3AuFGng_yFz-ZlK7Cru8>https://code.earthengine.google.com/client-auth?scopes=https%3A//www.googleapis.com/auth/earthengine%20https%3A//www.googleapis.com/auth/devstorage.full_control&request_id=nW-fLJA23qujxHGh0z-E_ESkMNTD-deQ0FziewIS9ts&tc=jzpV7H88okPWfRr0DmuvSMzg9MgF4UmWt8KX2vzj1t0&cc=KCrlULKhCkyWpkcN0_9BVQB3AuFGng_yFz-ZlK7Cru8</a></p>\n",
       "        <p>The authorization workflow will generate a code, which you\n",
       "        should paste in the box below</p>\n",
       "        "
      ],
      "text/plain": [
       "<IPython.core.display.HTML object>"
      ]
     },
     "metadata": {},
     "output_type": "display_data"
    },
    {
     "name": "stdin",
     "output_type": "stream",
     "text": [
      "Enter verification code:  4/1AX4XfWg_nStPNmk_Hv7NWckDIFxaHEo-VLMsbx3za0GCqhwN1GMeQPkc11U\n"
     ]
    },
    {
     "name": "stdout",
     "output_type": "stream",
     "text": [
      "\n",
      "Successfully saved authorization token.\n"
     ]
    }
   ],
   "source": [
    "import ee\n",
    "ee.Authenticate()"
   ]
  },
  {
   "cell_type": "markdown",
   "id": "cc96536b",
   "metadata": {
    "cell_id": "ad5580a18b104c649b2996307fe866cf",
    "deepnote_cell_height": 110,
    "deepnote_cell_type": "markdown",
    "tags": []
   },
   "source": [
    "##### Initiate Earth Engine\n",
    "Once it is installed, you will have to initiate a session with the API every time you run a script. In the import section of your code, include the following to start using Earth Engine "
   ]
  },
  {
   "cell_type": "code",
   "execution_count": 4,
   "id": "d79a6fe6",
   "metadata": {
    "cell_id": "be6cb4c3a6e84195853f458b1afe79f4",
    "deepnote_cell_height": 117,
    "deepnote_cell_type": "code",
    "deepnote_to_be_reexecuted": false,
    "execution_millis": 5781,
    "execution_start": 1654101586415,
    "source_hash": "5e4bb9d1",
    "tags": []
   },
   "outputs": [],
   "source": [
    "# Initialize the Earth Engine module.\n",
    "import ee, geemap\n",
    "ee.Initialize()"
   ]
  },
  {
   "cell_type": "markdown",
   "id": "c94a537c",
   "metadata": {
    "created_in_deepnote_cell": true,
    "deepnote_cell_type": "markdown",
    "tags": []
   },
   "source": [
    "<a style='text-decoration:none;line-height:16px;display:flex;color:#5B5B62;padding:10px;justify-content:end;' href='https://deepnote.com?utm_source=created-in-deepnote-cell&projectId=b8aff9fa-104a-41a3-b121-f629ebd12bab' target=\"_blank\">\n",
    "<img alt='Created in deepnote.com' style='display:inline;max-height:16px;margin:0px;margin-right:7.5px;' src='data:image/svg+xml;base64,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' > </img>\n",
    "Created in <span style='font-weight:600;margin-left:4px;'>Deepnote</span></a>"
   ]
  }
 ],
 "metadata": {
  "deepnote": {},
  "deepnote_execution_queue": [],
  "deepnote_notebook_id": "bb2a7a95-f616-4bb7-abcf-445fab159d70",
  "interpreter": {
   "hash": "ec9e24bde1833ef0ef93e4cf9cecf27c680e00c5d9cebee87bbc6a68c9a6acfb"
  },
  "kernelspec": {
   "display_name": "Python 3 (ipykernel)",
   "language": "python",
   "name": "python3"
  },
  "language_info": {
   "codemirror_mode": {
    "name": "ipython",
    "version": 3
   },
   "file_extension": ".py",
   "mimetype": "text/x-python",
   "name": "python",
   "nbconvert_exporter": "python",
   "pygments_lexer": "ipython3",
   "version": "3.9.13"
  }
 },
 "nbformat": 4,
 "nbformat_minor": 5
}
